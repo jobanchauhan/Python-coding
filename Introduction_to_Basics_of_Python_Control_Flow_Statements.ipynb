{
  "nbformat": 4,
  "nbformat_minor": 0,
  "metadata": {
    "kernelspec": {
      "display_name": "Python 3",
      "language": "python",
      "name": "python3"
    },
    "language_info": {
      "codemirror_mode": {
        "name": "ipython",
        "version": 3
      },
      "file_extension": ".py",
      "mimetype": "text/x-python",
      "name": "python",
      "nbconvert_exporter": "python",
      "pygments_lexer": "ipython3",
      "version": "3.7.6"
    },
    "colab": {
      "name": "Introduction to Basics of Python - Control Flow Statements.ipynb",
      "provenance": [],
      "toc_visible": true
    }
  },
  "cells": [
    {
      "cell_type": "markdown",
      "metadata": {
        "id": "vz2OPYZRFdc0"
      },
      "source": [
        "## Control Flow Statements"
      ]
    },
    {
      "cell_type": "markdown",
      "metadata": {
        "id": "UJqVAmqfFdc3"
      },
      "source": [
        "The statements in any Python program are generally executed sequentially i.e. from top to bottom, in the same order as  they are written. This is known as sequential control flow. In addition to moving sequentially in execution, we may need to incorporate conditional execution of the particular blocks of code or decision making or may need to visit same block of code again and again or need to break the flow of execution. In summary, control flow captures the direction the program takes."
      ]
    },
    {
      "cell_type": "markdown",
      "metadata": {
        "id": "qEZBKBX7Fdc4"
      },
      "source": [
        "![image.png](attachment:image.png)"
      ]
    },
    {
      "cell_type": "markdown",
      "metadata": {
        "id": "5Ey5DbtpFdc4"
      },
      "source": [
        "## Agenda\n",
        "* Decision making statements\n",
        "    * The if statement \n",
        "    * The if...else statement \n",
        "    * The if...elif...else statement\n",
        "    * Nested if statement \n",
        "* Loop statements\n",
        "    * The while loop\n",
        "    * The for loop \n",
        "* The break, continue and pass statements "
      ]
    },
    {
      "cell_type": "markdown",
      "metadata": {
        "id": "R4WXsyUdFdc4"
      },
      "source": [
        "![image.png](attachment:image.png)"
      ]
    },
    {
      "cell_type": "markdown",
      "metadata": {
        "id": "oXYVHULGFdc5"
      },
      "source": [
        "![image.png](attachment:image.png)"
      ]
    },
    {
      "cell_type": "markdown",
      "metadata": {
        "id": "xJTG9ydfFdc5"
      },
      "source": [
        "* Catching exceptions using try and except statement\n",
        "    * Syntax errors\n",
        "    * Exceptions\n",
        "    * Exception handling Using try...except...else...finally\n",
        "    * Built-in exceptions"
      ]
    },
    {
      "cell_type": "markdown",
      "metadata": {
        "id": "05KsACcsFdc6"
      },
      "source": [
        "![image.png](attachment:image.png)"
      ]
    },
    {
      "cell_type": "markdown",
      "metadata": {
        "id": "tQvgEcjQFdc6"
      },
      "source": [
        "* Summary\n",
        "* Multiple choice questions and programming"
      ]
    },
    {
      "cell_type": "markdown",
      "metadata": {
        "id": "c7tc_F3TFdc7"
      },
      "source": [
        "## Decision Making Statements"
      ]
    },
    {
      "cell_type": "markdown",
      "metadata": {
        "id": "YbA95JRkFdc7"
      },
      "source": [
        "They are used when we want to incorporate branching in a program. As stated earlier, by default execution follows a sequential order. The aim of any code given to a computer is to accomplish a particular task. Some tasks may need making decisions at runtime, based on certain conditions. These decisions are made using 'if-else' construct in the program."
      ]
    },
    {
      "cell_type": "markdown",
      "metadata": {
        "id": "BuMpjCEUFdc7"
      },
      "source": [
        "### The if statement"
      ]
    },
    {
      "cell_type": "markdown",
      "metadata": {
        "id": "DnLyoVpBFdc8"
      },
      "source": [
        "It allows to make a single decision. If condition holds then only conditional block of code is executed. Let's understand this better by writing some code."
      ]
    },
    {
      "cell_type": "markdown",
      "metadata": {
        "id": "19-hUexvFdc8"
      },
      "source": [
        "![image.png](attachment:image.png)"
      ]
    },
    {
      "cell_type": "code",
      "metadata": {
        "id": "IOQrxRqyFdc9",
        "outputId": "f9745beb-35c1-4baf-b093-1697945b8169"
      },
      "source": [
        "a = input(\"Enter marks: \")\n",
        "\n",
        "if int(a) > 40:\n",
        "    print('Pass')"
      ],
      "execution_count": null,
      "outputs": [
        {
          "name": "stdout",
          "output_type": "stream",
          "text": [
            "Enter marks: 35\n"
          ]
        }
      ]
    },
    {
      "cell_type": "markdown",
      "metadata": {
        "id": "sDUPdNLZFdc-"
      },
      "source": [
        "### The if...else statement"
      ]
    },
    {
      "cell_type": "markdown",
      "metadata": {
        "id": "cOfGS7mNFdc_"
      },
      "source": [
        "It allows to execute a separate conditional block of code even when condition doesn't holds."
      ]
    },
    {
      "cell_type": "markdown",
      "metadata": {
        "id": "6NJBqas9Fdc_"
      },
      "source": [
        "![image.png](attachment:image.png)"
      ]
    },
    {
      "cell_type": "code",
      "metadata": {
        "id": "bWiBECzyFdc_",
        "outputId": "9442cdda-dbd3-4236-84b5-7a2755bc58a5"
      },
      "source": [
        "a = input(\"Enter marks: \")\n",
        "\n",
        "if int(a) > 40:\n",
        "    print('Pass')\n",
        "else:\n",
        "    print('Fail')"
      ],
      "execution_count": null,
      "outputs": [
        {
          "name": "stdout",
          "output_type": "stream",
          "text": [
            "Enter marks: 25\n",
            "Fail\n"
          ]
        }
      ]
    },
    {
      "cell_type": "markdown",
      "metadata": {
        "id": "PD8qqJkuFdc_"
      },
      "source": [
        "### The if...elif...else statement"
      ]
    },
    {
      "cell_type": "markdown",
      "metadata": {
        "id": "T0h8acpNFddA"
      },
      "source": [
        "It allows to make multiple decisions."
      ]
    },
    {
      "cell_type": "code",
      "metadata": {
        "id": "RbnzyrgfFddA",
        "outputId": "175d4ce6-3c0c-41de-bb8d-253b1ed4ca45"
      },
      "source": [
        "a = input(\"Enter marks: \")\n",
        "\n",
        "if int(a) > 80:\n",
        "    print('Excellent')\n",
        "elif int(a) > 40:\n",
        "    print('Pass')\n",
        "else:\n",
        "    print('Fail')"
      ],
      "execution_count": null,
      "outputs": [
        {
          "name": "stdout",
          "output_type": "stream",
          "text": [
            "Enter marks: 60\n",
            "Pass\n"
          ]
        }
      ]
    },
    {
      "cell_type": "markdown",
      "metadata": {
        "id": "iqVN5kbkFddA"
      },
      "source": [
        "If we have more than three decisions to make, then we can create if_elif ladder, one step for each decision."
      ]
    },
    {
      "cell_type": "code",
      "metadata": {
        "id": "Iavo26bUFddA",
        "outputId": "e7c6f5e9-0dbc-43b9-898b-1e6a90f2f20a"
      },
      "source": [
        "i = 20\n",
        "if (i == 10): \n",
        "    print (\"i is 10\") \n",
        "elif (i == 15): \n",
        "    print (\"i is 15\") \n",
        "elif (i == 20): \n",
        "    print (\"i is 20\") \n",
        "else: \n",
        "    print (\"i is not present\") "
      ],
      "execution_count": null,
      "outputs": [
        {
          "name": "stdout",
          "output_type": "stream",
          "text": [
            "i is 20\n"
          ]
        }
      ]
    },
    {
      "cell_type": "markdown",
      "metadata": {
        "id": "rqSqF-d3FddB"
      },
      "source": [
        "### Nested if statement"
      ]
    },
    {
      "cell_type": "markdown",
      "metadata": {
        "id": "v_4jNqkBFddB"
      },
      "source": [
        "It allows to make nested decisions."
      ]
    },
    {
      "cell_type": "markdown",
      "metadata": {
        "id": "blXDL_c5FddB"
      },
      "source": [
        "![image.png](attachment:image.png)"
      ]
    },
    {
      "cell_type": "code",
      "metadata": {
        "id": "qeLp1Mp0FddB",
        "outputId": "be29d6dc-56c0-4f1a-a626-2f59403770f3"
      },
      "source": [
        "i = int(input())\n",
        "if (i > 0): \n",
        "    if (i <= 100): \n",
        "        print(\"i is smaller than 100\") \n",
        "    if (i <= 50): \n",
        "        print(\"i is smaller than 50 too\") \n",
        "    else: \n",
        "        print(i) "
      ],
      "execution_count": null,
      "outputs": [
        {
          "name": "stdout",
          "output_type": "stream",
          "text": [
            "40\n",
            "i is smaller than 100\n",
            "i is smaller than 50 too\n"
          ]
        }
      ]
    },
    {
      "cell_type": "markdown",
      "metadata": {
        "id": "IvhStFmCFddC"
      },
      "source": [
        "## Loop Statements"
      ]
    },
    {
      "cell_type": "markdown",
      "metadata": {
        "id": "_TGrXv2RFddC"
      },
      "source": [
        "They are used to execute a block of code repeatedly for several times as specified."
      ]
    },
    {
      "cell_type": "markdown",
      "metadata": {
        "id": "KkkWPDDmFddC"
      },
      "source": [
        "### The while loop"
      ]
    },
    {
      "cell_type": "markdown",
      "metadata": {
        "id": "vkeGG7vGFddC"
      },
      "source": [
        "![image.png](attachment:image.png)"
      ]
    },
    {
      "cell_type": "code",
      "metadata": {
        "id": "TgNNI6iBFddD",
        "outputId": "c2572974-15c4-4547-d0d2-b567e3c16de6"
      },
      "source": [
        "i = 0\n",
        "while i < 10:\n",
        "    print(f\"Current value of i is {i}\")\n",
        "    i = i + 1"
      ],
      "execution_count": null,
      "outputs": [
        {
          "name": "stdout",
          "output_type": "stream",
          "text": [
            "Current value of i is 0\n",
            "Current value of i is 1\n",
            "Current value of i is 2\n",
            "Current value of i is 3\n",
            "Current value of i is 4\n",
            "Current value of i is 5\n",
            "Current value of i is 6\n",
            "Current value of i is 7\n",
            "Current value of i is 8\n",
            "Current value of i is 9\n"
          ]
        }
      ]
    },
    {
      "cell_type": "markdown",
      "metadata": {
        "id": "aA15zhyGFddD"
      },
      "source": [
        "### The for loop"
      ]
    },
    {
      "cell_type": "markdown",
      "metadata": {
        "id": "RfItxlJHFddD"
      },
      "source": [
        "![image.png](attachment:image.png)"
      ]
    },
    {
      "cell_type": "code",
      "metadata": {
        "id": "TOzed5LtFddD",
        "outputId": "3de63a47-57e0-407c-a191-684c32ca4e38"
      },
      "source": [
        "for i in range(10):\n",
        "    print(f\"Current value of i is {i}\")"
      ],
      "execution_count": null,
      "outputs": [
        {
          "name": "stdout",
          "output_type": "stream",
          "text": [
            "Current value of i is 0\n",
            "Current value of i is 1\n",
            "Current value of i is 2\n",
            "Current value of i is 3\n",
            "Current value of i is 4\n",
            "Current value of i is 5\n",
            "Current value of i is 6\n",
            "Current value of i is 7\n",
            "Current value of i is 8\n",
            "Current value of i is 9\n"
          ]
        }
      ]
    },
    {
      "cell_type": "markdown",
      "metadata": {
        "id": "YYkbiB7PFddD"
      },
      "source": [
        "## The break, continue and pass Statements"
      ]
    },
    {
      "cell_type": "markdown",
      "metadata": {
        "id": "Tnv2aVbNFddD"
      },
      "source": [
        "Both break and continue statements are useful in case of loops. They are used when some condition is met within a loop. Break takes the execution out of the current loop (inner most loop). While Continue skips the current iteration and move to the next one."
      ]
    },
    {
      "cell_type": "markdown",
      "metadata": {
        "id": "DeN23GLRFddE"
      },
      "source": [
        "![image.png](attachment:image.png)"
      ]
    },
    {
      "cell_type": "code",
      "metadata": {
        "id": "p_TbRQxGFddE",
        "outputId": "dacfe462-91f5-4d17-9550-3a1e9a5fe478"
      },
      "source": [
        "for i in range(10): #[0,1,2,3,4,5,6,7,8,9]\n",
        "    if i==7:\n",
        "        break\n",
        "    print(f\"Current value of i is {i}\")"
      ],
      "execution_count": null,
      "outputs": [
        {
          "name": "stdout",
          "output_type": "stream",
          "text": [
            "Current value of i is 0\n",
            "Current value of i is 1\n",
            "Current value of i is 2\n",
            "Current value of i is 3\n",
            "Current value of i is 4\n",
            "Current value of i is 5\n",
            "Current value of i is 6\n"
          ]
        }
      ]
    },
    {
      "cell_type": "markdown",
      "metadata": {
        "id": "eizYbB0kFddE"
      },
      "source": [
        "Let's look at another example, with nested loops and using break statement to come out of inner loop only."
      ]
    },
    {
      "cell_type": "code",
      "metadata": {
        "id": "Fcs2495GFddE",
        "outputId": "9ee49661-8fd7-4bda-f14e-af243ff65d98"
      },
      "source": [
        "for i in range(1,5): #[1,2,3,4]\n",
        "    for j in range(0,i): #[0,..,i] i=1, [0]; i=2, [0,1]; i=3, [0,1,2]; i=4, [0,1,2,3]\n",
        "        if i==3:\n",
        "            break\n",
        "        print(f\"Current value of i is {i}\")"
      ],
      "execution_count": null,
      "outputs": [
        {
          "name": "stdout",
          "output_type": "stream",
          "text": [
            "Current value of i is 1\n",
            "Current value of i is 2\n",
            "Current value of i is 2\n",
            "Current value of i is 4\n",
            "Current value of i is 4\n",
            "Current value of i is 4\n",
            "Current value of i is 4\n"
          ]
        }
      ]
    },
    {
      "cell_type": "code",
      "metadata": {
        "id": "D1zCFNAEFddE",
        "outputId": "77163e72-69fb-4478-d73f-93e08edda4dc"
      },
      "source": [
        "for i in range(10):\n",
        "    if i==7:\n",
        "        continue\n",
        "    print(f\"Current value of i is {i}\")"
      ],
      "execution_count": null,
      "outputs": [
        {
          "name": "stdout",
          "output_type": "stream",
          "text": [
            "Current value of i is 0\n",
            "Current value of i is 1\n",
            "Current value of i is 2\n",
            "Current value of i is 3\n",
            "Current value of i is 4\n",
            "Current value of i is 5\n",
            "Current value of i is 6\n",
            "Current value of i is 8\n",
            "Current value of i is 9\n"
          ]
        }
      ]
    },
    {
      "cell_type": "markdown",
      "metadata": {
        "id": "kl88tPd9FddF"
      },
      "source": [
        "![image.png](attachment:image.png)"
      ]
    },
    {
      "cell_type": "code",
      "metadata": {
        "id": "Rd7iCGWTFddF",
        "outputId": "9ad39a25-57f0-4f43-c9f4-d037a57e1016"
      },
      "source": [
        "for i in range(10):\n",
        "    if i==7:\n",
        "        pass\n",
        "    print(f\"Current value of i is {i}\")"
      ],
      "execution_count": null,
      "outputs": [
        {
          "name": "stdout",
          "output_type": "stream",
          "text": [
            "Current value of i is 0\n",
            "Current value of i is 1\n",
            "Current value of i is 2\n",
            "Current value of i is 3\n",
            "Current value of i is 4\n",
            "Current value of i is 5\n",
            "Current value of i is 6\n",
            "Current value of i is 7\n",
            "Current value of i is 8\n",
            "Current value of i is 9\n"
          ]
        }
      ]
    },
    {
      "cell_type": "markdown",
      "metadata": {
        "id": "1mOrfX8UFddF"
      },
      "source": [
        "If pass statement is doing nothing, then why do we need it?\n",
        "\n",
        "\n",
        "Python works purely on indentation! There are no empty curly braces, unlike other languages. So, if you want to do nothing in case a condition is true there is no option other than pass. Also, pass can be used in scenarios when you need some empty functions, classes or loops for future implementations, and there's no requirement of executing any code."
      ]
    },
    {
      "cell_type": "code",
      "metadata": {
        "id": "usilA4NoFddF",
        "outputId": "aa31f115-02d0-48e7-bac7-7c7542f0241b"
      },
      "source": [
        "i = 3\n",
        "if i==2:\n",
        "    \n",
        "else:\n",
        "    print('I want to only execute when input is not 2!')"
      ],
      "execution_count": null,
      "outputs": [
        {
          "ename": "IndentationError",
          "evalue": "expected an indented block (<ipython-input-78-85fca75dacb4>, line 4)",
          "output_type": "error",
          "traceback": [
            "\u001b[0;36m  File \u001b[0;32m\"<ipython-input-78-85fca75dacb4>\"\u001b[0;36m, line \u001b[0;32m4\u001b[0m\n\u001b[0;31m    else:\u001b[0m\n\u001b[0m       ^\u001b[0m\n\u001b[0;31mIndentationError\u001b[0m\u001b[0;31m:\u001b[0m expected an indented block\n"
          ]
        }
      ]
    },
    {
      "cell_type": "code",
      "metadata": {
        "id": "IGPAoO7pFddF"
      },
      "source": [
        "i = 2\n",
        "if i==2:\n",
        "    pass\n",
        "else:\n",
        "    print('I want to only execute when input is not 2!')"
      ],
      "execution_count": null,
      "outputs": []
    },
    {
      "cell_type": "markdown",
      "metadata": {
        "id": "S4dOmZ5cFddF"
      },
      "source": [
        "## Catching Exceptions using try and except Statement"
      ]
    },
    {
      "cell_type": "markdown",
      "metadata": {
        "id": "Cs4eMYHLFddF"
      },
      "source": [
        "There are primarily two kinds of errors:\n",
        "1. Syntax Errors \n",
        "2. Exceptions"
      ]
    },
    {
      "cell_type": "markdown",
      "metadata": {
        "id": "4YVOyDsiFddF"
      },
      "source": [
        "### Syntax errors"
      ]
    },
    {
      "cell_type": "markdown",
      "metadata": {
        "id": "29WMKM1tFddG"
      },
      "source": [
        "Syntax errors or parsing errors, are those which are caught while code compiles. Or if you are using an IDE (like Jupyter or PyCharm), these errors are sometimes highlighted in the code itself."
      ]
    },
    {
      "cell_type": "code",
      "metadata": {
        "id": "tk-WT60IFddG",
        "outputId": "9bb00b51-4982-4243-f869-8fd6a39c139e"
      },
      "source": [
        "while True:\n",
        "    print(\"Hello World!\")\n",
        "    break"
      ],
      "execution_count": null,
      "outputs": [
        {
          "name": "stdout",
          "output_type": "stream",
          "text": [
            "Hello World!\n"
          ]
        }
      ]
    },
    {
      "cell_type": "markdown",
      "metadata": {
        "id": "8VOrnH1vFddG"
      },
      "source": [
        "### Exceptions"
      ]
    },
    {
      "cell_type": "markdown",
      "metadata": {
        "id": "M_l4mepFFddG"
      },
      "source": [
        "Exception handling is one of the most important feature of Python programming language that allows us to handle the errors caused by exceptions. Even if a statement or expression is syntactically correct, it may cause an error during execution, and such errors are called exceptions.\n",
        "\n",
        "An exception is an unwanted event that interrupts the normal flow of the program, causing the program to halt. In such cases, we get a system-generated error message. These are called built-in exceptions. \n",
        "\n",
        "However, these exceptions can be handled in Python code. By doing so, we can provide a meaningful message to the user about the issue which can help in debugging. These are called user-defined or custom exceptions."
      ]
    },
    {
      "cell_type": "code",
      "metadata": {
        "id": "UN-omWTLFddG",
        "outputId": "45f6bd6b-0c30-47f9-99a2-f48128d4daf8"
      },
      "source": [
        "5/0"
      ],
      "execution_count": null,
      "outputs": [
        {
          "ename": "ZeroDivisionError",
          "evalue": "division by zero",
          "output_type": "error",
          "traceback": [
            "\u001b[0;31m---------------------------------------------------------------------------\u001b[0m",
            "\u001b[0;31mZeroDivisionError\u001b[0m                         Traceback (most recent call last)",
            "\u001b[0;32m<ipython-input-15-0106664d39e8>\u001b[0m in \u001b[0;36m<module>\u001b[0;34m\u001b[0m\n\u001b[0;32m----> 1\u001b[0;31m \u001b[0;36m5\u001b[0m\u001b[0;34m/\u001b[0m\u001b[0;36m0\u001b[0m\u001b[0;34m\u001b[0m\u001b[0;34m\u001b[0m\u001b[0m\n\u001b[0m",
            "\u001b[0;31mZeroDivisionError\u001b[0m: division by zero"
          ]
        }
      ]
    },
    {
      "cell_type": "code",
      "metadata": {
        "id": "oqmJjPsKFddG",
        "outputId": "3644ee92-ccab-4ee6-94df-e54628576a7a"
      },
      "source": [
        "4+5"
      ],
      "execution_count": null,
      "outputs": [
        {
          "data": {
            "text/plain": [
              "9"
            ]
          },
          "execution_count": 113,
          "metadata": {},
          "output_type": "execute_result"
        }
      ]
    },
    {
      "cell_type": "code",
      "metadata": {
        "id": "XW-0y9jIFddH",
        "outputId": "b3ad9200-c382-4948-d7fd-0db529a76efd"
      },
      "source": [
        "print(xyz)"
      ],
      "execution_count": null,
      "outputs": [
        {
          "ename": "NameError",
          "evalue": "name 'xyz' is not defined",
          "output_type": "error",
          "traceback": [
            "\u001b[0;31m---------------------------------------------------------------------------\u001b[0m",
            "\u001b[0;31mNameError\u001b[0m                                 Traceback (most recent call last)",
            "\u001b[0;32m<ipython-input-114-b6499aa2e891>\u001b[0m in \u001b[0;36m<module>\u001b[0;34m\u001b[0m\n\u001b[0;32m----> 1\u001b[0;31m \u001b[0mprint\u001b[0m\u001b[0;34m(\u001b[0m\u001b[0mxyz\u001b[0m\u001b[0;34m)\u001b[0m\u001b[0;34m\u001b[0m\u001b[0;34m\u001b[0m\u001b[0m\n\u001b[0m",
            "\u001b[0;31mNameError\u001b[0m: name 'xyz' is not defined"
          ]
        }
      ]
    },
    {
      "cell_type": "markdown",
      "metadata": {
        "id": "60NAH0edFddH"
      },
      "source": [
        "### Built-in exceptions"
      ]
    },
    {
      "cell_type": "markdown",
      "metadata": {
        "id": "Ee8gO2eOFddH"
      },
      "source": [
        "List of most common system generated exceptions:\n",
        "* AssertionError:\n",
        "When an assert statement fails, the AssertionError is raised.\n",
        "* AttributeError:\n",
        "When an assignment fails, the AttributeError is raised\n",
        "* EOFError:\n",
        "When the last word of the file is reached and the program attempts to read any further, the EOFError is raised.\n",
        "* FloatingPointError:\n",
        "This exception is raised when floating point operations fail.\n",
        "* ImportError:\n",
        "If the import statement written in the code cannot load the said module, this exception is raised. This is same as the ModuleNotFoundError in the later versions of Python.\n",
        "* IndexError:\n",
        "When the sequence is out of range, this exception is raised.\n",
        "* KeyError:\n",
        "If in a dictionary the key is not found, then this exception is raised.\n",
        "* OverflowError:\n",
        "Note that each data type can hold some value and there is always a maximum limit to what it can hold. When this limit is reached, the OverflowError is raised.\n",
        "* RecursionError:\n",
        "While executing a code that uses recursion, at times maximum iteration depth is reached. At this point in time, the recursionError is raised.\n",
        "* RuntimeError:\n",
        "If an error occurs and it does not fall in any of the said categories, then this exception is raised.\n",
        "* StopIteration:\n",
        "If one is using the _next_() and there are no more objects that can be processed, then this exception is raised.\n",
        "* SyntaxError:\n",
        "When the syntax of the code is incorrect, this exception is raised. For example, not writing the import statements or any such thing.\n",
        "* IntendationError:\n",
        "When incorrect use of indentation is done, then this exception comes up.\n",
        "* TabError:\n",
        "An inconsistent use of spaces or tabs leads to this type of error.\n",
        "* SystemError:\n",
        "If some internal error is found, then this exception is raised. The exception displays the problem that was encountered due to which the exception is raised.\n",
        "* NotImplementedError:\n",
        "If an object is not supported or the part that provides support has not been implemented, then the NotImplementedError is raised.\n",
        "* TypeError:\n",
        "If an argument is passed and is not expected, the TypeError is raised. For example, in a program that divides two numbers entered by the user, a character is passed, then TypeError is raised.\n",
        "* ValueError:\n",
        "When an incorrect value is passed in a function (or an attempt is made to enter it in a variable), the ValueError is raised. For example if a value which is outside the bounds of an integer is passed then this exception is raised.\n",
        "* UnboundLocalError:\n",
        "This exception is raised when a reference is made to a variable which does not have any value in that scope.\n",
        "* UnicodeError:\n",
        "This is raised when errors related to Unicode encoding or decoding come up.\n",
        "* ZeroDivisionError:\n",
        "The division and the modulo operation has two arguments. If the second argument is zero, this exception is raised."
      ]
    },
    {
      "cell_type": "markdown",
      "metadata": {
        "id": "P2f9WUAWFddH"
      },
      "source": [
        "### Exception handling using try...except...else...finally"
      ]
    },
    {
      "cell_type": "markdown",
      "metadata": {
        "id": "GyNmmk-zFddH"
      },
      "source": [
        "![image.png](attachment:image.png)"
      ]
    },
    {
      "cell_type": "code",
      "metadata": {
        "id": "fdoxJbdUFddH",
        "outputId": "9579100c-2108-40bb-ec80-6a660646dc23"
      },
      "source": [
        "x = int(input('Enter dividend '))\n",
        "y = int(input('Enter divisor '))\n",
        "try:\n",
        "    print(x/y)\n",
        "except:\n",
        "    print('Divisor cannot be zero')"
      ],
      "execution_count": null,
      "outputs": [
        {
          "name": "stdout",
          "output_type": "stream",
          "text": [
            "Enter dividend 10\n",
            "Enter divisor 0\n",
            "Divisor cannot be zero\n"
          ]
        }
      ]
    },
    {
      "cell_type": "code",
      "metadata": {
        "id": "VbbOv_c-FddI",
        "outputId": "c3d45754-66af-4164-a4c7-8d887ca6bb9c"
      },
      "source": [
        "x = int(input('Enter dividend '))\n",
        "y = int(input('Enter divisor '))\n",
        "try:\n",
        "    print(x/y)\n",
        "except:\n",
        "    print('Divisor cannot be zero')\n",
        "    \n",
        "print('Code after try except block!')"
      ],
      "execution_count": null,
      "outputs": [
        {
          "name": "stdout",
          "output_type": "stream",
          "text": [
            "Enter dividend 10\n",
            "Enter divisor 0\n",
            "Divisor cannot be zero\n",
            "Code after try except block!\n"
          ]
        }
      ]
    },
    {
      "cell_type": "code",
      "metadata": {
        "id": "8oSqVafCFddI",
        "outputId": "dfea024f-b1e0-4843-c4d1-ac75a0c94bf9"
      },
      "source": [
        "x = int(input('Enter dividend '))\n",
        "y = int(input('Enter divisor '))\n",
        "print(x/y)\n",
        "\n",
        "print('Code after division!')"
      ],
      "execution_count": null,
      "outputs": [
        {
          "name": "stdout",
          "output_type": "stream",
          "text": [
            "Enter dividend 10\n",
            "Enter divisor 0\n"
          ]
        },
        {
          "ename": "ZeroDivisionError",
          "evalue": "division by zero",
          "output_type": "error",
          "traceback": [
            "\u001b[0;31m---------------------------------------------------------------------------\u001b[0m",
            "\u001b[0;31mZeroDivisionError\u001b[0m                         Traceback (most recent call last)",
            "\u001b[0;32m<ipython-input-118-94dbb11a116f>\u001b[0m in \u001b[0;36m<module>\u001b[0;34m\u001b[0m\n\u001b[1;32m      1\u001b[0m \u001b[0mx\u001b[0m \u001b[0;34m=\u001b[0m \u001b[0mint\u001b[0m\u001b[0;34m(\u001b[0m\u001b[0minput\u001b[0m\u001b[0;34m(\u001b[0m\u001b[0;34m'Enter dividend '\u001b[0m\u001b[0;34m)\u001b[0m\u001b[0;34m)\u001b[0m\u001b[0;34m\u001b[0m\u001b[0;34m\u001b[0m\u001b[0m\n\u001b[1;32m      2\u001b[0m \u001b[0my\u001b[0m \u001b[0;34m=\u001b[0m \u001b[0mint\u001b[0m\u001b[0;34m(\u001b[0m\u001b[0minput\u001b[0m\u001b[0;34m(\u001b[0m\u001b[0;34m'Enter divisor '\u001b[0m\u001b[0;34m)\u001b[0m\u001b[0;34m)\u001b[0m\u001b[0;34m\u001b[0m\u001b[0;34m\u001b[0m\u001b[0m\n\u001b[0;32m----> 3\u001b[0;31m \u001b[0mprint\u001b[0m\u001b[0;34m(\u001b[0m\u001b[0mx\u001b[0m\u001b[0;34m/\u001b[0m\u001b[0my\u001b[0m\u001b[0;34m)\u001b[0m\u001b[0;34m\u001b[0m\u001b[0;34m\u001b[0m\u001b[0m\n\u001b[0m\u001b[1;32m      4\u001b[0m \u001b[0;34m\u001b[0m\u001b[0m\n\u001b[1;32m      5\u001b[0m \u001b[0mprint\u001b[0m\u001b[0;34m(\u001b[0m\u001b[0;34m'Code after division!'\u001b[0m\u001b[0;34m)\u001b[0m\u001b[0;34m\u001b[0m\u001b[0;34m\u001b[0m\u001b[0m\n",
            "\u001b[0;31mZeroDivisionError\u001b[0m: division by zero"
          ]
        }
      ]
    },
    {
      "cell_type": "code",
      "metadata": {
        "id": "F3-mX7GwFddI",
        "outputId": "292c13cb-8fe6-4e10-977a-b21d613c0e3a"
      },
      "source": [
        "x = int(input('Enter dividend '))\n",
        "y = int(input('Enter divisor '))\n",
        "try:\n",
        "    result = x/y\n",
        "except:\n",
        "    print('Divisor cannot be zero')\n",
        "else:\n",
        "    print(result)    "
      ],
      "execution_count": null,
      "outputs": [
        {
          "name": "stdout",
          "output_type": "stream",
          "text": [
            "Enter dividend 10\n",
            "Enter divisor 5\n",
            "2.0\n"
          ]
        }
      ]
    },
    {
      "cell_type": "code",
      "metadata": {
        "id": "KWSSViRuFddI",
        "outputId": "c56ecb3b-9265-461c-be4d-64a451565c47"
      },
      "source": [
        "x = int(input('Enter dividend '))\n",
        "y = int(input('Enter divisor '))\n",
        "try:\n",
        "    result = x/y\n",
        "except:\n",
        "    print('Divisor cannot be zero')\n",
        "else:\n",
        "    print(result)\n",
        "finally:\n",
        "    print('Done!')"
      ],
      "execution_count": null,
      "outputs": [
        {
          "name": "stdout",
          "output_type": "stream",
          "text": [
            "Enter dividend 10\n",
            "Enter divisor 5\n",
            "2.0\n",
            "Done!\n"
          ]
        }
      ]
    },
    {
      "cell_type": "markdown",
      "metadata": {
        "id": "PmXQvXSnFddI"
      },
      "source": [
        "Finally block can be useful to close objects and clean up resources. More to be covered on this in later sessions."
      ]
    },
    {
      "cell_type": "markdown",
      "metadata": {
        "id": "57I5-zDHFddI"
      },
      "source": [
        "![image.png](attachment:image.png)"
      ]
    },
    {
      "cell_type": "markdown",
      "metadata": {
        "id": "qtqlwrL_FddI"
      },
      "source": [
        "Before we finish this topic, here is a teaser."
      ]
    },
    {
      "cell_type": "code",
      "metadata": {
        "id": "saEffUetFddJ",
        "outputId": "169361f6-b4d4-42aa-f337-684a4aabad15"
      },
      "source": [
        "x = -1\n",
        "\n",
        "if x < 0:\n",
        "     raise Exception(\"Sorry, no numbers below zero\")\n",
        "\n",
        "print('Done!')"
      ],
      "execution_count": null,
      "outputs": [
        {
          "ename": "Exception",
          "evalue": "Sorry, no numbers below zero",
          "output_type": "error",
          "traceback": [
            "\u001b[0;31m---------------------------------------------------------------------------\u001b[0m",
            "\u001b[0;31mException\u001b[0m                                 Traceback (most recent call last)",
            "\u001b[0;32m<ipython-input-33-e858cde8e22d>\u001b[0m in \u001b[0;36m<module>\u001b[0;34m\u001b[0m\n\u001b[1;32m      2\u001b[0m \u001b[0;34m\u001b[0m\u001b[0m\n\u001b[1;32m      3\u001b[0m \u001b[0;32mif\u001b[0m \u001b[0mx\u001b[0m \u001b[0;34m<\u001b[0m \u001b[0;36m0\u001b[0m\u001b[0;34m:\u001b[0m\u001b[0;34m\u001b[0m\u001b[0;34m\u001b[0m\u001b[0m\n\u001b[0;32m----> 4\u001b[0;31m      \u001b[0;32mraise\u001b[0m \u001b[0mException\u001b[0m\u001b[0;34m(\u001b[0m\u001b[0;34m\"Sorry, no numbers below zero\"\u001b[0m\u001b[0;34m)\u001b[0m\u001b[0;34m\u001b[0m\u001b[0;34m\u001b[0m\u001b[0m\n\u001b[0m\u001b[1;32m      5\u001b[0m \u001b[0;34m\u001b[0m\u001b[0m\n\u001b[1;32m      6\u001b[0m \u001b[0mprint\u001b[0m\u001b[0;34m(\u001b[0m\u001b[0;34m'Done!'\u001b[0m\u001b[0;34m)\u001b[0m\u001b[0;34m\u001b[0m\u001b[0;34m\u001b[0m\u001b[0m\n",
            "\u001b[0;31mException\u001b[0m: Sorry, no numbers below zero"
          ]
        }
      ]
    },
    {
      "cell_type": "code",
      "metadata": {
        "id": "0KgFWNPfFddJ",
        "outputId": "7b923c93-c143-40c5-bcca-1c9bdd0b1311"
      },
      "source": [
        "x = -1\n",
        "\n",
        "if x < 0:\n",
        "    print(\"Sorry, no numbers below zero\")\n",
        "\n",
        "print('Done!')\n"
      ],
      "execution_count": null,
      "outputs": [
        {
          "name": "stdout",
          "output_type": "stream",
          "text": [
            "Sorry, no numbers below zero\n",
            "Done!\n"
          ]
        }
      ]
    },
    {
      "cell_type": "code",
      "metadata": {
        "id": "doDFIm_PFddJ",
        "outputId": "5d653a0b-e548-4d09-d93a-44b6faf9520d"
      },
      "source": [
        "x = int(input('Enter dividend '))\n",
        "y = int(input('Enter divisor '))\n",
        "\n",
        "if y==0:\n",
        "    raise ZeroDivisionError\n",
        "\n",
        "print(x/y)"
      ],
      "execution_count": null,
      "outputs": [
        {
          "name": "stdout",
          "output_type": "stream",
          "text": [
            "Enter dividend 5\n",
            "Enter divisor 0\n"
          ]
        },
        {
          "ename": "ZeroDivisionError",
          "evalue": "",
          "output_type": "error",
          "traceback": [
            "\u001b[0;31m---------------------------------------------------------------------------\u001b[0m",
            "\u001b[0;31mZeroDivisionError\u001b[0m                         Traceback (most recent call last)",
            "\u001b[0;32m<ipython-input-46-ba8cb79eb3a9>\u001b[0m in \u001b[0;36m<module>\u001b[0;34m\u001b[0m\n\u001b[1;32m      3\u001b[0m \u001b[0;34m\u001b[0m\u001b[0m\n\u001b[1;32m      4\u001b[0m \u001b[0;32mif\u001b[0m \u001b[0my\u001b[0m\u001b[0;34m==\u001b[0m\u001b[0;36m0\u001b[0m\u001b[0;34m:\u001b[0m\u001b[0;34m\u001b[0m\u001b[0;34m\u001b[0m\u001b[0m\n\u001b[0;32m----> 5\u001b[0;31m     \u001b[0;32mraise\u001b[0m \u001b[0mZeroDivisionError\u001b[0m\u001b[0;34m\u001b[0m\u001b[0;34m\u001b[0m\u001b[0m\n\u001b[0m\u001b[1;32m      6\u001b[0m \u001b[0;34m\u001b[0m\u001b[0m\n\u001b[1;32m      7\u001b[0m \u001b[0mprint\u001b[0m\u001b[0;34m(\u001b[0m\u001b[0mx\u001b[0m\u001b[0;34m/\u001b[0m\u001b[0my\u001b[0m\u001b[0;34m)\u001b[0m\u001b[0;34m\u001b[0m\u001b[0;34m\u001b[0m\u001b[0m\n",
            "\u001b[0;31mZeroDivisionError\u001b[0m: "
          ]
        }
      ]
    },
    {
      "cell_type": "markdown",
      "metadata": {
        "id": "kuMzQI6UFddJ"
      },
      "source": [
        "## Summary"
      ]
    },
    {
      "cell_type": "markdown",
      "metadata": {
        "id": "XAUIKIZuFddJ"
      },
      "source": [
        "* Decision making - if statement\n",
        "    * if-else, if-elif-else, if-if-else, ... so on\n",
        "* Looping - while and for statements\n",
        "    * while statement works on condition\n",
        "    * for statement works on item sequence\n",
        "* Breaking a loop - break statement\n",
        "* Continuing for a loop condition - continue statement\n",
        "* Passing - pass statement\n",
        "* Error handling - try-except statement\n",
        "    * try-except-else-finally"
      ]
    },
    {
      "cell_type": "markdown",
      "metadata": {
        "id": "OW0bfmLYFddJ"
      },
      "source": [
        "## Multiple Choice Questions and Programming"
      ]
    },
    {
      "cell_type": "raw",
      "metadata": {
        "id": "quxjOBFyFddK"
      },
      "source": [
        "Q1. Control flow statements can be used for?\n",
        "a) Make a decision\n",
        "b) Visit same part of code again\n",
        "c) Skip the part of execution\n",
        "d) All of the above\n",
        "\n",
        "Q2. The symbol that is mandotary at the end of if condition is?\n",
        "a) ;\n",
        "b) : \n",
        "c) .\n",
        "d) !\n",
        "\n",
        "Q3. What is the keyword that is used to come out of a loop only for that iteration?\n",
        "a) break\n",
        "b) continue\n",
        "c) pass \n",
        "d) if\n",
        "\n",
        "Q4. What will be the output of the following Python code?\n",
        "is_holiday = True\n",
        "if is_holiday:\n",
        "    print('it is a holiday')\n",
        "elif is_holiday == False:\n",
        "    print('it is not a holiday')\n",
        "else:\n",
        "    print('data missing')\n",
        "\n",
        "a) it is a holidat\n",
        "b) it is not a holiday\n",
        "c) data missing\n",
        "d) error\n",
        "\n",
        "Q5. What will be the output of the following Python code?\n",
        "n = 18\n",
        "if n%2 == 0:\n",
        "    if n%5 == 0:\n",
        "        print('input is divisible by 10')\n",
        "    elif n%3 == 0:\n",
        "        print('input is divisible by 6')\n",
        "elif n%3 == 0:\n",
        "    if (n/3)%3 == 0:\n",
        "        print('input is divisible by 9')\n",
        "\n",
        "a) input is divisible by 10\n",
        "b) input is divisible by 6\n",
        "c) input is divisible by 9\n",
        "d) none of the above\n",
        "    \n",
        "Q6. What will be the output of the following Python code?\n",
        "i = 1\n",
        "while True:\n",
        "    if i%3 == 0:\n",
        "        break\n",
        "    print(i)\n",
        "    i += 1\n",
        "    \n",
        "a) 1 2\n",
        "b) 1 2 3\n",
        "c) error\n",
        "d) none of the above\n",
        "\n",
        "Q7. What will be the output of the following Python code?\n",
        "i = 1\n",
        "while i < 5:\n",
        "    if i%3 == 0:\n",
        "        continue\n",
        "    print(i)\n",
        "    i += 1\n",
        "    \n",
        "a) 1 2\n",
        "b) 1 2 3 4\n",
        "c) 1 2 4\n",
        "d) none of the above\n",
        "\n",
        "Q8. What will be the output of the following Python code?\n",
        "while True:\n",
        "    print(True)\n",
        "    pass\n",
        "\n",
        "a) True\n",
        "b) False \n",
        "c) Syntax error\n",
        "d) Infinte loop\n",
        "\n",
        "Q2. What will be the output of the following Python code?\n",
        "for i in range(10):\n",
        "    if i == 5:\n",
        "        break\n",
        "    else:\n",
        "        print(i)\n",
        "        \n",
        "a) 0 1 2 3 4 \n",
        "b) 0 1 2 3 4 5 \n",
        "c) 1 2 3 4 5\n",
        "d) error\n",
        "\n",
        "Q9. What will be the output of the following Python code?\n",
        "x = 'abcd'\n",
        "for i in x:\n",
        "    print(i)\n",
        "    \n",
        "a) a B C D\n",
        "b) a b c d\n",
        "c) A B C D\n",
        "d) error\n",
        "\n",
        "Q4. What will be the output of the following Python code?\n",
        "x = 123\n",
        "for i in x:\n",
        "    print(i)\n",
        "    \n",
        "a) 1 2 3\n",
        "b) 123\n",
        "c) error\n",
        "d) none of the mentioned\n",
        "\n",
        "Q10. What will be the output of the following Python code?\n",
        "d = {0: 'a', 1: 'b', 2: 'c'}\n",
        "for i in d:\n",
        "    print(i)\n",
        "    \n",
        "a) 0 1 2\n",
        "b) a b c\n",
        "c) 0 a 1 b 2 c\n",
        "d) none of the mentioned\n",
        "\n",
        "Q11. The keyword that is not used as an exception handling in Python?\n",
        "a) try\n",
        "b) except\n",
        "c) accept\n",
        "d) finally\n",
        "\n",
        "Q12. When is the else part of the try-except-else be executed?\n",
        "a) Always\n",
        "b) When an exception occurs\n",
        "c) When no exception occurs\n",
        "d) Never\n",
        "\n",
        "Q13. When is the finally block executed?\n",
        "a) Always\n",
        "b) When an exception occurs\n",
        "c) When no exception occurs\n",
        "d) Never\n",
        "\n",
        "Q14. Which is the invalid exception handling block?\n",
        "a) try-except\n",
        "b) try-else\n",
        "c) try-except-finally\n",
        "d) All are valid \n",
        "\n",
        "Q15. What will be the output of the following Python code?\n",
        "while True\n",
        "    print(“Hello World”)\n",
        "    \n",
        "a) Syntax Error\n",
        "b) Logical Error\n",
        "c) Run-time error\n",
        "d) None of the above\n",
        "\n",
        "Q16. What will be the output of the below expression?\n",
        ">>> 10*(10/0)\n",
        "\n",
        "a) OverflowError\n",
        "b) ZeroDivisionError\n",
        "c) NameError\n",
        "d) Positive Infinity\n",
        "\n",
        "Q17. Write a Python program to read the month of the year from the user and print the following weather conditions using if...elif...else statement.\n",
        "Month Weather \n",
        "    1  winter\n",
        "    2  winter\n",
        "    3  mild winter\n",
        "    4  spring\n",
        "    5  summer\n",
        "    6  summer\n",
        "    7  summer\n",
        "    8  monsoon\n",
        "    9  monsoon\n",
        "    10 monsoon\n",
        "    11 mild winter\n",
        "    12 winter\n",
        "Remember to check for invalid month values.  \n",
        "\n",
        "Q18. Write a Python program to find sum of all the even numbers between 0 and 100 using loops.\n",
        "\n",
        "Q19. Write Python programs to display the following patterns using nested loops.\n",
        "  1)\n",
        "   * \n",
        "   ** \n",
        "   ***\n",
        "   ****\n",
        "   *****\n",
        "  2)\n",
        "   54321\n",
        "   5432\n",
        "   543\n",
        "   54\n",
        "   5\n",
        "\n",
        "Q20. Write Python programs to calculate and print the sum of the following series, for an input value of n.\n",
        "  1) 1 + 1/2 + 1/3 + ... + 1/n\n",
        "  2) 1 + 22 + 33 + ... + nn"
      ]
    }
  ]
}